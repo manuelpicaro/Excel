{
  "nbformat": 4,
  "nbformat_minor": 0,
  "metadata": {
    "colab": {
      "name": "IA_BackHome_Estatístico_FutPythonTrader - England 2023.ipynb",
      "provenance": [],
      "collapsed_sections": [],
      "private_outputs": true,
      "include_colab_link": true
    },
    "kernelspec": {
      "name": "python3",
      "display_name": "Python 3"
    },
    "language_info": {
      "name": "python"
    },
    "gpuClass": "standard"
  },
  "cells": [
    {
      "cell_type": "markdown",
      "metadata": {
        "id": "view-in-github",
        "colab_type": "text"
      },
      "source": [
        "<a href=\"https://colab.research.google.com/github/manuelpicaro/Excel/blob/main/IA_BackHome_Estat%C3%ADstico_FutPythonTrader_England_2023.ipynb\" target=\"_parent\"><img src=\"https://colab.research.google.com/assets/colab-badge.svg\" alt=\"Open In Colab\"/></a>"
      ]
    },
    {
      "cell_type": "code",
      "execution_count": null,
      "metadata": {
        "id": "i_kddJwIQcKL"
      },
      "outputs": [],
      "source": [
        "# Importando as Bibliotecas Básicas\n",
        "import pandas as pd\n",
        "import numpy as np\n",
        "from google.colab import data_table\n",
        "data_table.enable_dataframe_formatter()\n",
        "import warnings\n",
        "warnings.filterwarnings('ignore')\n",
        "# Importando a Biblioteca do KNN\n",
        "from sklearn.neighbors import KNeighborsClassifier\n",
        "# Importando a Biblioteca de Acurácia, Matriz de Confusão (em quantos jogos entrou em quantos foi green ou red)\n",
        "from sklearn.metrics import accuracy_score, confusion_matrix\n",
        "# Importando a Biblioteca SkLearn para padronizar os dados (entre 0 e 1)\n",
        "from sklearn.preprocessing import StandardScaler\n",
        "# Importando a Biblioteca SkLearn para dividir os dados entre treinamento e teste\n",
        "from sklearn.model_selection import train_test_split\n",
        "\n",
        "# Importando a Classe Cores\n",
        "class bcolors:\n",
        "    OKGREEN = '\\033[92m' #GREEN\n",
        "    OkBLUE = '\\033[94m' #BLUE\n",
        "    WARNING = '\\033[93m' #YELLOW\n",
        "    FAIL = '\\033[91m' #RED\n",
        "    RESET = '\\033[0m' #RESET COLOR"
      ]
    },
    {
      "cell_type": "code",
      "source": [
        "# Importando os DataFrames\n",
        "df_ENG1015 = pd.read_excel('https://github.com/manuelpicaro/Excel/blob/main/England_2010_2015.xlsx?raw=true')\n",
        "df_ENG1621 = pd.read_excel('https://github.com/manuelpicaro/Excel/blob/main/England_2016_2021.xlsx?raw=true')\n",
        "df_2223 = pd.read_excel ('https://github.com/manuelpicaro/Excel/blob/main/England_2022_2023.xlsx?raw=true')\n",
        "\n",
        "# Concatenando os DataFrames\n",
        "df = [df_ENG1015, df_ENG1621]\n",
        "df = pd.concat(df)\n",
        "df = df[['Home','Away','FT_Odds_H','FT_Odds_D','FT_Odds_A','FT_Goals_H','FT_Goals_A']]\n",
        "df = df[(df.FT_Odds_H != 0) & (df.FT_Odds_D != 0) & (df.FT_Odds_A != 0)]\n",
        "df = df.dropna()\n",
        "# Ajustando o Índice\n",
        "df.reset_index(inplace=True, drop=True)\n",
        "df.index = df.index.set_names(['Nº'])\n",
        "df = df.rename(index=lambda x: x + 1)"
      ],
      "metadata": {
        "id": "q1Br0HBKQ6YB"
      },
      "execution_count": null,
      "outputs": []
    },
    {
      "cell_type": "code",
      "source": [
        "df"
      ],
      "metadata": {
        "id": "gvOwPC1GRNhk"
      },
      "execution_count": null,
      "outputs": []
    },
    {
      "cell_type": "code",
      "source": [
        "# Dados de Pontos\n",
        "df.loc[(df['FT_Goals_H'] > df['FT_Goals_A']), 'Result_FT'] = \"H\"\n",
        "df.loc[(df['FT_Goals_H'] == df['FT_Goals_A']), 'Result_FT'] = \"D\"\n",
        "df.loc[(df['FT_Goals_H'] < df['FT_Goals_A']), 'Result_FT'] = \"A\"\n",
        "\n",
        "df.loc[(df['Result_FT'] == \"H\"), 'Pontos_H'] = 3\n",
        "df.loc[(df['Result_FT'] == \"D\"), 'Pontos_H'] = 1\n",
        "df.loc[(df['Result_FT'] == \"A\"), 'Pontos_H'] = 0\n",
        "\n",
        "df.loc[(df['Result_FT'] == \"A\"), 'Pontos_A'] = 3\n",
        "df.loc[(df['Result_FT'] == \"D\"), 'Pontos_A'] = 1\n",
        "df.loc[(df['Result_FT'] == \"H\"), 'Pontos_A'] = 0\n",
        "\n",
        "# Estatísticas de Pontos\n",
        "# Média\n",
        "df['Media_Pontos_H'] = df.groupby('Home')['Pontos_H'].rolling(window=5, min_periods=1).mean().reset_index(0,drop=True).shift(1)\n",
        "df['Media_Pontos_A'] = df.groupby('Away')['Pontos_A'].rolling(window=5, min_periods=1).mean().reset_index(0,drop=True).shift(1)\n",
        "# Desvio Padrão\n",
        "df['DP_Pontos_H'] = df.groupby('Home')['Pontos_H'].rolling(window=5, min_periods=1).std().reset_index(0,drop=True)\n",
        "df['DP_Pontos_A'] = df.groupby('Away')['Pontos_A'].rolling(window=5, min_periods=1).std().reset_index(0,drop=True)\n",
        "# Coeficiente de Variação\n",
        "df['CV_Pontos_H'] = (df['DP_Pontos_H'] / df['Media_Pontos_H'])\n",
        "df['CV_Pontos_A'] = (df['DP_Pontos_A'] / df['Media_Pontos_A'])\n",
        "\n",
        "df.replace(np.inf, 1, inplace=True)\n",
        "df.dropna(inplace=True)"
      ],
      "metadata": {
        "id": "Rh7Ar2BznIZH"
      },
      "execution_count": null,
      "outputs": []
    },
    {
      "cell_type": "code",
      "source": [
        "# Criando a Coluna de 0 e 1 para análise do Modelo de Machine Learning\n",
        "df.loc[(df['FT_Goals_H'] > df['FT_Goals_A']), 'BackHome'] = 1\n",
        "df.loc[(df['FT_Goals_H'] <= df['FT_Goals_A']), 'BackHome'] = 0"
      ],
      "metadata": {
        "id": "T9UtE2FwiKYk"
      },
      "execution_count": null,
      "outputs": []
    },
    {
      "cell_type": "code",
      "source": [
        "df"
      ],
      "metadata": {
        "id": "pPNCx7kkWi54"
      },
      "execution_count": null,
      "outputs": []
    },
    {
      "cell_type": "code",
      "source": [
        "df1 = df[['FT_Odds_H','FT_Odds_D','FT_Odds_A','Media_Pontos_H','CV_Pontos_H','Media_Pontos_A','CV_Pontos_A','BackHome']]"
      ],
      "metadata": {
        "id": "RDGqzOrobXG-"
      },
      "execution_count": null,
      "outputs": []
    },
    {
      "cell_type": "code",
      "source": [
        "df1 = df1.dropna()\n",
        "# convertendo os arrays (matriz)\n",
        "# definindo qual coluna é a entrada e qual é a saída\n",
        "df1_x = df1.iloc[:, :-1].values\n",
        "df1_y = df1.iloc[:, -1].values"
      ],
      "metadata": {
        "id": "1Qn3_9Nkua88"
      },
      "execution_count": null,
      "outputs": []
    },
    {
      "cell_type": "code",
      "source": [
        "df1_x"
      ],
      "metadata": {
        "id": "cv132iw3zBFM"
      },
      "execution_count": null,
      "outputs": []
    },
    {
      "cell_type": "code",
      "source": [
        "df1_y"
      ],
      "metadata": {
        "id": "oi1AGyGf9eco"
      },
      "execution_count": null,
      "outputs": []
    },
    {
      "cell_type": "code",
      "source": [
        "# Definições de Parâmetros e dados de entrada e resultado para treinamento\n",
        "knn_dados = KNeighborsClassifier(n_neighbors=3, metric=\"minkowski\", p=2)\n",
        "knn_dados.fit(df1_x, df1_y)"
      ],
      "metadata": {
        "id": "RmklCXM90r0s"
      },
      "execution_count": null,
      "outputs": []
    },
    {
      "cell_type": "code",
      "source": [
        "df2 = df_2223[['Home','Away','FT_Odds_H','FT_Odds_D','FT_Odds_A','FT_Goals_H','FT_Goals_A']]\n",
        "df2 = df2[(df2.FT_Odds_H != 0) & (df2.FT_Odds_D != 0) & (df2.FT_Odds_A != 0)]\n",
        "df2 = df2.dropna()\n",
        "# Ajustando o Índice\n",
        "df2.reset_index(inplace=True, drop=True)\n",
        "df2.index = df2.index.set_names(['Nº'])\n",
        "df2 = df2.rename(index=lambda x: x + 1)\n",
        "\n",
        "# Dados de Pontos\n",
        "df2.loc[(df2['FT_Goals_H'] > df2['FT_Goals_A']), 'Result_FT'] = \"H\"\n",
        "df2.loc[(df2['FT_Goals_H'] == df2['FT_Goals_A']), 'Result_FT'] = \"D\"\n",
        "df2.loc[(df2['FT_Goals_H'] < df2['FT_Goals_A']), 'Result_FT'] = \"A\"\n",
        "\n",
        "df2.loc[(df2['Result_FT'] == \"H\"), 'Pontos_H'] = 3\n",
        "df2.loc[(df2['Result_FT'] == \"D\"), 'Pontos_H'] = 1\n",
        "df2.loc[(df2['Result_FT'] == \"A\"), 'Pontos_H'] = 0\n",
        "\n",
        "df2.loc[(df2['Result_FT'] == \"A\"), 'Pontos_A'] = 3\n",
        "df2.loc[(df2['Result_FT'] == \"D\"), 'Pontos_A'] = 1\n",
        "df2.loc[(df2['Result_FT'] == \"H\"), 'Pontos_A'] = 0\n",
        "\n",
        "# Estatísticas de Pontos\n",
        "# Média\n",
        "df2['Media_Pontos_H'] = df2.groupby('Home')['Pontos_H'].rolling(window=5, min_periods=1).mean().reset_index(0,drop=True).shift(1)\n",
        "df2['Media_Pontos_A'] = df2.groupby('Away')['Pontos_A'].rolling(window=5, min_periods=1).mean().reset_index(0,drop=True).shift(1)\n",
        "# Desvio Padrão\n",
        "df2['DP_Pontos_H'] = df2.groupby('Home')['Pontos_H'].rolling(window=5, min_periods=1).std().reset_index(0,drop=True)\n",
        "df2['DP_Pontos_A'] = df2.groupby('Away')['Pontos_A'].rolling(window=5, min_periods=1).std().reset_index(0,drop=True)\n",
        "# Coeficiente de Variação\n",
        "df2['CV_Pontos_H'] = (df2['DP_Pontos_H'] / df2['Media_Pontos_H'])\n",
        "df2['CV_Pontos_A'] = (df2['DP_Pontos_A'] / df2['Media_Pontos_A'])\n",
        "\n",
        "df2.replace(np.inf, 1, inplace=True)\n",
        "df2.dropna(inplace=True)\n",
        "\n",
        "#Salvando o DF\n",
        "dfdf = df2\n",
        "\n",
        "# Criando a Coluna de 0 e 1 para análise do Modelo de Machine Learning\n",
        "df2.loc[(df2['FT_Goals_H'] > df2['FT_Goals_A']), 'BackHome'] = 1\n",
        "df2.loc[(df2['FT_Goals_H'] <= df2['FT_Goals_A']), 'BackHome'] = 0\n",
        "\n",
        "df2 = df2[['FT_Odds_H','FT_Odds_D','FT_Odds_A','Media_Pontos_H','CV_Pontos_H','Media_Pontos_A','CV_Pontos_A','BackHome']]"
      ],
      "metadata": {
        "id": "hKaELyB0NETU"
      },
      "execution_count": null,
      "outputs": []
    },
    {
      "cell_type": "code",
      "source": [
        "df2"
      ],
      "metadata": {
        "id": "m3Z0tnWAehVJ"
      },
      "execution_count": null,
      "outputs": []
    },
    {
      "cell_type": "code",
      "source": [
        "df2 = df2.dropna()\n",
        "# convertendo os arrays (matriz)\n",
        "# definindo qual coluna é a entrada e qual é a saída\n",
        "df2_x = df2.iloc[:, :-1].values\n",
        "\n",
        "# Previsões\n",
        "previsoes_knn2 = knn_dados.predict(df2_x)\n",
        "\n",
        "df2[\"Previsões\"] = previsoes_knn2\n",
        "\n",
        "stake = 1\n",
        "win_Back = stake * (df2.FT_Odds_H - 1)\n",
        "lose_Back = -stake\n",
        "\n",
        "df2.loc[(df2['Previsões'] == 1) & (df2['BackHome'] == 1), 'Profit'] = win_Back\n",
        "df2.loc[(df2['Previsões'] == 1) & (df2['BackHome'] == 0), 'Profit'] = lose_Back\n",
        "df2.loc[(df2['Previsões'] == 0) & (df2['BackHome'] == 1), 'Profit'] = 0\n",
        "df2.loc[(df2['Previsões'] == 0) & (df2['BackHome'] == 0), 'Profit'] = 0\n",
        "\n",
        "filtro = df2.Previsões == 1\n",
        "df0 = df2[filtro]\n",
        "\n",
        "# Ajustando o Índice\n",
        "df0.reset_index(inplace=True, drop=True)\n",
        "df0.index = df0.index.set_names(['Nº'])\n",
        "df0 = df0.rename(index=lambda x: x + 1)\n",
        "\n",
        "df0['Profit_acu'] = df0.Profit.cumsum()\n",
        "df0.Profit_acu.plot()\n",
        "df0.Profit_acu.tail(1)"
      ],
      "metadata": {
        "id": "AoFWLZsMNfhX"
      },
      "execution_count": null,
      "outputs": []
    },
    {
      "cell_type": "code",
      "source": [
        "dfdf = dfdf[['Home','Away','FT_Odds_H','FT_Odds_D','FT_Odds_A','Media_Pontos_H','CV_Pontos_H','Media_Pontos_A','CV_Pontos_A']]\n",
        "dfdf = dfdf.tail(10)\n",
        "dfdf"
      ],
      "metadata": {
        "id": "0Kbrl0XGxfX6"
      },
      "execution_count": null,
      "outputs": []
    },
    {
      "cell_type": "code",
      "source": [
        "for a,b,c,d,e,f,g,h,i in zip(dfdf.Home,dfdf.Away,dfdf.FT_Odds_H,dfdf.FT_Odds_D,dfdf.FT_Odds_A,dfdf.Media_Pontos_H,dfdf.CV_Pontos_H,dfdf.Media_Pontos_A,dfdf.CV_Pontos_A):\n",
        "  \n",
        "    Home = a\n",
        "    Away = b\n",
        "    FT_Odds_H = c\n",
        "    FT_Odds_D = d\n",
        "    FT_Odds_A = e\n",
        "    Media_Pontos_H = f\n",
        "    CV_Pontos_H = g\n",
        "    Media_Pontos_A = h\n",
        "    CV_Pontos_A = i\n",
        "    \n",
        "    Odds = [FT_Odds_H,FT_Odds_D,FT_Odds_A,Media_Pontos_H,CV_Pontos_H,Media_Pontos_A,CV_Pontos_A]\n",
        "\n",
        "    # Transformando a Lista em uma Matriz\n",
        "    odds_jogo = np.array(Odds)\n",
        "\n",
        "    previsao_jogo_knn = odds_jogo.reshape(1, -1)\n",
        "    previsao_jogo_knn = knn_dados.predict(previsao_jogo_knn)\n",
        "\n",
        "    print('');print(Home,'x',Away)\n",
        "\n",
        "    if previsao_jogo_knn == 1:\n",
        "      print(bcolors.OKGREEN + \"Fazer Back Casa\" + bcolors.RESET)\n",
        "    else:\n",
        "      print(bcolors.FAIL + \"Ficar Fora do jogo\" + bcolors.RESET)\n",
        "\n"
      ],
      "metadata": {
        "id": "vkhrJfUeq8BE"
      },
      "execution_count": null,
      "outputs": []
    }
  ]
}